{
 "cells": [
  {
   "cell_type": "markdown",
   "metadata": {},
   "source": [
    "### Please RUN selektor.ipynb in Data_Analysis folder to choose and run research ",
    
   ]
  }

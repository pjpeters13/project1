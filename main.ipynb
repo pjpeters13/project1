{
 "cells": [
  {
   "cell_type": "markdown",
   "metadata": {},
   "source": [
    "### Please RUN selektor.ipynb in Data_Analysis folder to choose and run research ",
    
   ]
  }
 "nbformat": 4,
 "nbformat_minor": 2
}

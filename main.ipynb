{
 "cells": [
  {
   "cell_type": "markdown",
   "metadata": {},
   "source": [
    "### Please RUN Data_Analysis\selektor.ipynb to choose and run research ",
    
   ]
  }

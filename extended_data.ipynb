{
 "cells": [
  {
   "cell_type": "code",
   "execution_count": 1,
   "metadata": {},
   "outputs": [],
   "source": [
    "import pandas as pd\n",
    "import numpy as np\n",
    "import matplotlib.pyplot as plt\n",
    "from datetime import datetime\n"
   ]
  },
  {
   "cell_type": "code",
   "execution_count": 2,
   "metadata": {},
   "outputs": [],
   "source": [
    "# API Connection\n",
    "from sodapy import Socrata\n",
    "\n",
    "client = Socrata(\"data.cityofnewyork.us\", \"yUnYRTjXHWdK6ATxbXOsJR52v\", timeout=60)\n",
    "\n",
    "# First 20000 results, returned as JSON from API / converted to Python list of dictionaries by sodapy.\n",
    "results = client.get(\"qgea-i56i\", limit=20000)\n",
    "df = pd.DataFrame.from_records(results)"
   ]
  },
  {
   "cell_type": "code",
   "execution_count": 3,
   "metadata": {},
   "outputs": [
    {
     "data": {
      "text/plain": [
       "['PETIT LARCENY',\n",
       " 'HARRASSMENT 2',\n",
       " 'ASSAULT 3 & RELATED OFFENSES',\n",
       " 'GRAND LARCENY',\n",
       " 'CRIMINAL MISCHIEF & RELATED OF',\n",
       " 'FELONY ASSAULT',\n",
       " 'VEHICLE AND TRAFFIC LAWS',\n",
       " 'GRAND LARCENY OF MOTOR VEHICLE',\n",
       " 'ROBBERY',\n",
       " 'BURGLARY',\n",
       " 'MISCELLANEOUS PENAL LAW',\n",
       " 'OFF. AGNST PUB ORD SENSBLTY &',\n",
       " 'DANGEROUS DRUGS',\n",
       " 'SEX CRIMES',\n",
       " 'OFFENSES AGAINST PUBLIC ADMINI',\n",
       " 'DANGEROUS WEAPONS',\n",
       " 'INTOXICATED & IMPAIRED DRIVING',\n",
       " 'FORGERY',\n",
       " 'THEFT-FRAUD',\n",
       " 'OFFENSES INVOLVING FRAUD',\n",
       " 'FRAUDS',\n",
       " 'CRIMINAL TRESPASS',\n",
       " 'POSSESSION OF STOLEN PROPERTY',\n",
       " 'RAPE',\n",
       " 'UNAUTHORIZED USE OF A VEHICLE',\n",
       " 'ADMINISTRATIVE CODE',\n",
       " 'OFFENSES AGAINST THE PERSON',\n",
       " 'NYS LAWS-UNCLASSIFIED FELONY',\n",
       " 'OTHER STATE LAWS (NON PENAL LA',\n",
       " 'ARSON',\n",
       " 'OTHER OFFENSES RELATED TO THEF',\n",
       " 'MURDER & NON-NEGL. MANSLAUGHTER',\n",
       " \"BURGLAR'S TOOLS\",\n",
       " 'OFFENSES AGAINST PUBLIC SAFETY',\n",
       " 'FRAUDULENT ACCOSTING',\n",
       " 'OTHER STATE LAWS',\n",
       " 'GAMBLING',\n",
       " 'THEFT OF SERVICES',\n",
       " 'AGRICULTURE & MRKTS LAW-UNCLASSIFIED',\n",
       " 'CANNABIS RELATED OFFENSES',\n",
       " 'CHILD ABANDONMENT/NON SUPPORT',\n",
       " 'OFFENSES RELATED TO CHILDREN',\n",
       " 'PROSTITUTION & RELATED OFFENSES',\n",
       " 'ENDAN WELFARE INCOMP',\n",
       " 'PETIT LARCENY OF MOTOR VEHICLE',\n",
       " 'ALCOHOLIC BEVERAGE CONTROL LAW',\n",
       " 'ANTICIPATORY OFFENSES',\n",
       " 'KIDNAPPING & RELATED OFFENSES',\n",
       " 'INTOXICATED/IMPAIRED DRIVING',\n",
       " 'NYS LAWS-UNCLASSIFIED VIOLATION',\n",
       " '(null)',\n",
       " 'ESCAPE 3']"
      ]
     },
     "execution_count": 3,
     "metadata": {},
     "output_type": "execute_result"
    }
   ],
   "source": [
    "# define list of values from column ofns_desc and make a new list\n",
    "ofns_desc = df['ofns_desc'].value_counts().index.tolist()\n",
    "ofns_desc"
   ]
  },
  {
   "cell_type": "code",
   "execution_count": 4,
   "metadata": {},
   "outputs": [],
   "source": [
    "# First 500000 results, returned as JSON from API / converted to Python list of dictionaries by sodapy. \n",
    "# Make a loop and put through api query for every value from ofns_desc list. \n",
    "# Include additional columns alongside cmplnt_fr_dt, cmplnt_fr_tm, and ofns_desc \n",
    "\n",
    "ofns_desc_list = df['ofns_desc'].value_counts().index.tolist()\n",
    "\n",
    "# Set today's date\n",
    "today = datetime.now().strftime(\"%Y-%m-%d\")\n",
    "\n",
    "# Create an empty list to store the results\n",
    "results_list = []\n",
    "\n",
    "# Loop through each value in the ofns_desc list\n",
    "for ofns_desc_value in ofns_desc_list:\n",
    "    # Escaping apostrophes in the value\n",
    "    ofns_desc_value_escaped = ofns_desc_value.replace(\"'\", \"''\")\n",
    "    \n",
    "    # Forming the query with escaped apostrophes\n",
    "    query = f\"ofns_desc='{ofns_desc_value_escaped}' AND cmplnt_fr_dt >= '2010-01-01' AND cmplnt_fr_dt <= '{today}'\"\n",
    "   \n",
    "    # Query the API for the specific value from ofns_desc list and include additional columns\n",
    "    results = client.get(\"qgea-i56i\",\n",
    "                         select=\"cmplnt_fr_dt, cmplnt_fr_tm, ofns_desc, boro_nm, susp_age_group, susp_race, susp_sex, vic_age_group, vic_race, vic_sex\",\n",
    "                         where=query,\n",
    "                         limit=500000)  # Adjusted the limit to a realistic number\n",
    "    \n",
    "    # Convert the results to a DataFrame\n",
    "    results_df = pd.DataFrame.from_records(results)\n",
    "    \n",
    "    # Append the results to the results_list\n",
    "    results_list.append(results_df)\n",
    "\n",
    "# Concatenate all the DataFrames in the results_list\n",
    "final_df = pd.concat(results_list)\n"
   ]
  },
  {
   "cell_type": "code",
   "execution_count": 5,
   "metadata": {},
   "outputs": [
    {
     "name": "stdout",
     "output_type": "stream",
     "text": [
      "<class 'pandas.core.frame.DataFrame'>\n",
      "Index: 4916471 entries, 0 to 125\n",
      "Data columns (total 10 columns):\n",
      " #   Column          Dtype \n",
      "---  ------          ----- \n",
      " 0   cmplnt_fr_dt    object\n",
      " 1   cmplnt_fr_tm    object\n",
      " 2   ofns_desc       object\n",
      " 3   boro_nm         object\n",
      " 4   susp_age_group  object\n",
      " 5   susp_race       object\n",
      " 6   susp_sex        object\n",
      " 7   vic_age_group   object\n",
      " 8   vic_race        object\n",
      " 9   vic_sex         object\n",
      "dtypes: object(10)\n",
      "memory usage: 412.6+ MB\n"
     ]
    }
   ],
   "source": [
    "final_df.info()"
   ]
  },
  {
   "cell_type": "code",
   "execution_count": 6,
   "metadata": {},
   "outputs": [],
   "source": [
    "# save the final_df to a csv file\n",
    "final_df.to_csv('Resources/nypd_crime_data.csv', index=False)"
   ]
  }
 ],
 "metadata": {
  "kernelspec": {
   "display_name": "base",
   "language": "python",
   "name": "python3"
  },
  "language_info": {
   "codemirror_mode": {
    "name": "ipython",
    "version": 3
   },
   "file_extension": ".py",
   "mimetype": "text/x-python",
   "name": "python",
   "nbconvert_exporter": "python",
   "pygments_lexer": "ipython3",
   "version": "3.11.5"
  }
 },
 "nbformat": 4,
 "nbformat_minor": 2
}

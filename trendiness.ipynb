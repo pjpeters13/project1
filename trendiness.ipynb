{
 "cells": [
  {
   "cell_type": "code",
   "execution_count": null,
   "metadata": {},
   "outputs": [],
   "source": [
    "# Import dependencies\n",
    "import pandas as pd\n",
    "import numpy as np\n",
    "from prophet import Prophet\n",
    "import matplotlib.pyplot as plt\n",
    "import seaborn as sns\n",
    "from tqdm import tqdm\n",
    "import time  \n",
    "import plotly.express as px\n"
   ]
  },
  {
   "cell_type": "code",
   "execution_count": null,
   "metadata": {},
   "outputs": [],
   "source": [
    "# load the cleaned_crime_data.csv\n",
    "file_path = \"../Resources/cleaned_crime_data.csv\"\n",
    "df = pd.read_csv(file_path)\n",
    "df.head()"
   ]
  },
  {
   "cell_type": "code",
   "execution_count": null,
   "metadata": {},
   "outputs": [],
   "source": [
    "yearly_trends_df = df.copy()"
   ]
  },
  {
   "cell_type": "code",
   "execution_count": null,
   "metadata": {},
   "outputs": [],
   "source": [
    "# Convert 'ds' column to datetime format\n",
    "yearly_trends_df['ds'] = pd.to_datetime(yearly_trends_df['ds'])\n",
    "\n",
    "# Group by year and offense description and calculate the number of cases\n",
    "yearly_trends = yearly_trends_df.groupby([yearly_trends_df['ds'].dt.year, 'ofns_desc']).size().reset_index(name='counts')\n",
    "yearly_trends.head()"
   ]
  },
  {
   "cell_type": "code",
   "execution_count": null,
   "metadata": {},
   "outputs": [],
   "source": [
    "# remove (null) from the ofns_desc column\n",
    "yearly_trends = yearly_trends[yearly_trends['ofns_desc'] != '(null)']"
   ]
  },
  {
   "cell_type": "code",
   "execution_count": null,
   "metadata": {},
   "outputs": [],
   "source": [
    "# Plotting the trend of total reported cases for each year\n",
    "plt.figure(figsize=(15, 7))\n",
    "sns.lineplot(x='ds', y='counts', data=yearly_trends, hue='ofns_desc', palette='viridis')\n",
    "\n",
    "# Add title and labels\n",
    "plt.title('Trend of Total Reported Cases for Each Year')\n",
    "plt.xlabel('Year')\n",
    "plt.ylabel('Number of Reported Cases')\n",
    "\n",
    "# Add legend\n",
    "plt.legend(title='Type of Crime')\n",
    "\n",
    "# Tight layout for better spacing"
   ]
  },
  {
   "cell_type": "code",
   "execution_count": null,
   "metadata": {},
   "outputs": [],
   "source": [
    "# calculate  trendiness of crime change over time for each type of crime\n",
    "\n",
    "# Create a new DataFrame to store the trendiness of each type of crime\n",
    "trendiness_df = pd.DataFrame(columns=['Type of Crime', 'Trendiness'])\n",
    "\n",
    "# Loop through each type of crime in 'ofns_desc'\n",
    "for offense in tqdm(yearly_trends['ofns_desc'].unique()):\n",
    "    # Filter the DataFrame for the current type of crime\n",
    "    subset = yearly_trends[yearly_trends['ofns_desc'] == offense]\n",
    "    # Calculate the trendiness\n",
    "    trendiness = (subset['counts'].iloc[-1] - subset['counts'].iloc[0]) / subset['counts'].iloc[0]\n",
    "    # Concatenate the results to the new DataFrame\n",
    "    trendiness_df = pd.concat([trendiness_df, pd.DataFrame({'Type of Crime': [offense], 'Trendiness': [trendiness]})])\n",
    "\n",
    "# Sort the DataFrame by 'Trendiness' in descending order\n",
    "trendiness_df.sort_values(by='Trendiness', ascending=False, inplace=True)\n",
    "\n",
    "# Plot the trendiness of each type of crime\n",
    "plt.figure(figsize=(15, 7))\n",
    "sns.barplot(x='Trendiness', y='Type of Crime', data=trendiness_df, palette='viridis')\n",
    "\n",
    "# Add title and labels\n",
    "plt.title('Trendiness of Crime Change Over Time for Each Type of Crime')\n",
    "plt.xlabel('Trendiness')\n",
    "plt.ylabel('Type of Crime')\n",
    "\n",
    "# Tight layout for better spacing\n",
    "plt.tight_layout()\n",
    "\n",
    "# Show the plot\n",
    "plt.show()"
   ]
  },
  {
   "cell_type": "markdown",
   "metadata": {},
   "source": [
    "- The crime category \"ENDAN WELFARE INCOMP\" has the most significant negative trend, suggesting a substantial decline in incidents over the observed period.\n",
    "- Crimes such as \"OFFENSES RELATED TO CHILDREN,\" \"DANGEROUS DRUGS,\" and \"FRAUDULENT ACCOSTING\" have shown an increase, with \"OFFENSES RELATED TO CHILDREN\" having the highest positive trendiness, indicating a significant rise in reported incidents.\n",
    "-  Several crime categories exhibit little to no change over time, as indicated by bars that are very close to the zero on the trendiness scale. This suggests that the frequency of these crimes has remained relatively stable throughout the observed period."
   ]
  },
  {
   "cell_type": "code",
   "execution_count": null,
   "metadata": {},
   "outputs": [],
   "source": [
    "# top 10 type of crime with the highest trendiness\n",
    "top_10_trendiness = trendiness_df.head(10)\n",
    "\n",
    "# Plot the trendiness of each type of crime\n",
    "plt.figure(figsize=(15, 7))\n",
    "sns.barplot(x='Trendiness', y='Type of Crime', data=top_10_trendiness, palette='viridis')\n",
    "\n",
    "# Add title and labels\n",
    "plt.title('Top 10 Types of Crime with the Highest Trendiness')\n",
    "plt.xlabel('Trendiness')\n",
    "plt.ylabel('Type of Crime')\n",
    "\n",
    "# Tight layout for better spacing\n",
    "plt.tight_layout()\n",
    "\n",
    "# Show the plot\n",
    "plt.show()"
   ]
  },
  {
   "cell_type": "markdown",
   "metadata": {},
   "source": [
    " \"ENDAN WELFARE INCOMP\" likely refers to a criminal offense that involves endangering the welfare of an incompetent or physically disabled person, categorized as a misdemeanor in New York State laws. This offense is defined in Section 260.24 of the New York Penal Law as \"Endangering the welfare of an incompetent or physically disabled person in the second degree\" and is considered a Class A misdemeanor."
   ]
  },
  {
   "cell_type": "code",
   "execution_count": null,
   "metadata": {},
   "outputs": [],
   "source": [
    "# Overal trendiness of crime cases over the years\n",
    "# Calculate the trendiness of crime cases over the years\n",
    "overall_trendiness = (yearly_trends['counts'].iloc[-1] - yearly_trends['counts'].iloc[0]) / yearly_trends['counts'].iloc[0]\n",
    "\n",
    "# Print the overall trendiness\n",
    "print(f\"The overall trendiness of crime cases over the years is {overall_trendiness:.2%}\")"
   ]
  },
  {
   "cell_type": "markdown",
   "metadata": {},
   "source": [
    "- A 1075.80% increase suggests that the number of crime cases by the end of the period is more than 11 times higher than the number at the start. This is a significant increase, indicating that the volume of reported crime cases has grown substantially over the years included in the dataset."
   ]
  },
  {
   "cell_type": "code",
   "execution_count": null,
   "metadata": {},
   "outputs": [],
   "source": [
    "# Plot The overall trendiness of crime cases over the years \n",
    "plt.figure(figsize=(15, 7))\n",
    "sns.lineplot(x=yearly_trends['ds'], y=yearly_trends['counts'], palette='viridis')\n",
    "\n",
    "# Add title and labels\n",
    "plt.title('The overall trendiness of crime cases over the years')\n",
    "plt.xlabel('Year')\n",
    "plt.ylabel('Number of Reported Cases')\n",
    "\n",
    "# Tight layout for better spacing\n",
    "plt.tight_layout()\n",
    "\n",
    "# Show the plot\n",
    "plt.show()"
   ]
  },
  {
   "cell_type": "markdown",
   "metadata": {},
   "source": [
    "1. Overall Decline and Recent Increase: The chart shows a general decline in the number of reported crime cases over the years with a noticeable dip around 2016-2017. However, there's an uptick in cases beginning in 2020, with a sharp increase into 2022.\n",
    "\n",
    "2. Volatility in Crime Reporting: The shaded area suggests that there has been some volatility in the number of reported cases, with the range of reports varying from year to year. The wider the shaded area, the more variability there is in the number of reported cases within that year.\n",
    "\n",
    "3. Data Interpretation: While the overall trend from 2010 to around 2019 indicates a decrease, the sudden rise in reported cases in 2020 might suggest a change in the pattern of crime, a change in reporting behavior, or external factors influencing crime rates or reporting. The increase in 2022 could warrant further investigation to understand its cause — whether it is due to actual increases in crime or changes in data collection, reporting practices, or other factors."
   ]
  }
 ],
 "metadata": {
  "language_info": {
   "name": "python"
  }
 },
 "nbformat": 4,
 "nbformat_minor": 2
}

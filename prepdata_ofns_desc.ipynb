{
 "cells": [
  {
   "cell_type": "code",
   "execution_count": 1,
   "metadata": {},
   "outputs": [],
   "source": [
    "# Import dependencies\n",
    "import pandas as pd\n",
    "# import numpy as np\n",
    "# import matplotlib.pyplot as plt\n",
    "# from prophet import Prophet"
   ]
  },
  {
   "cell_type": "code",
   "execution_count": 3,
   "metadata": {},
   "outputs": [
    {
     "data": {
      "text/html": [
       "<div>\n",
       "<style scoped>\n",
       "    .dataframe tbody tr th:only-of-type {\n",
       "        vertical-align: middle;\n",
       "    }\n",
       "\n",
       "    .dataframe tbody tr th {\n",
       "        vertical-align: top;\n",
       "    }\n",
       "\n",
       "    .dataframe thead th {\n",
       "        text-align: right;\n",
       "    }\n",
       "</style>\n",
       "<table border=\"1\" class=\"dataframe\">\n",
       "  <thead>\n",
       "    <tr style=\"text-align: right;\">\n",
       "      <th></th>\n",
       "      <th>cmplnt_fr_dt</th>\n",
       "      <th>cmplnt_fr_tm</th>\n",
       "      <th>ofns_desc</th>\n",
       "    </tr>\n",
       "  </thead>\n",
       "  <tbody>\n",
       "    <tr>\n",
       "      <th>0</th>\n",
       "      <td>2010-10-27T00:00:00.000</td>\n",
       "      <td>19:30:00</td>\n",
       "      <td>PETIT LARCENY</td>\n",
       "    </tr>\n",
       "    <tr>\n",
       "      <th>1</th>\n",
       "      <td>2021-05-24T00:00:00.000</td>\n",
       "      <td>03:00:00</td>\n",
       "      <td>PETIT LARCENY</td>\n",
       "    </tr>\n",
       "    <tr>\n",
       "      <th>2</th>\n",
       "      <td>2010-02-10T00:00:00.000</td>\n",
       "      <td>12:00:00</td>\n",
       "      <td>PETIT LARCENY</td>\n",
       "    </tr>\n",
       "    <tr>\n",
       "      <th>3</th>\n",
       "      <td>2010-02-09T00:00:00.000</td>\n",
       "      <td>15:00:00</td>\n",
       "      <td>PETIT LARCENY</td>\n",
       "    </tr>\n",
       "    <tr>\n",
       "      <th>4</th>\n",
       "      <td>2010-07-29T00:00:00.000</td>\n",
       "      <td>08:00:00</td>\n",
       "      <td>PETIT LARCENY</td>\n",
       "    </tr>\n",
       "  </tbody>\n",
       "</table>\n",
       "</div>"
      ],
      "text/plain": [
       "              cmplnt_fr_dt cmplnt_fr_tm      ofns_desc\n",
       "0  2010-10-27T00:00:00.000     19:30:00  PETIT LARCENY\n",
       "1  2021-05-24T00:00:00.000     03:00:00  PETIT LARCENY\n",
       "2  2010-02-10T00:00:00.000     12:00:00  PETIT LARCENY\n",
       "3  2010-02-09T00:00:00.000     15:00:00  PETIT LARCENY\n",
       "4  2010-07-29T00:00:00.000     08:00:00  PETIT LARCENY"
      ]
     },
     "execution_count": 3,
     "metadata": {},
     "output_type": "execute_result"
    }
   ],
   "source": [
    "# Load the data from Resources folder\n",
    "df = pd.read_csv('Resources/final_df.csv')\n",
    "df.head()\n"
   ]
  },
  {
   "cell_type": "code",
   "execution_count": 7,
   "metadata": {},
   "outputs": [
    {
     "name": "stdout",
     "output_type": "stream",
     "text": [
      "<class 'pandas.core.frame.DataFrame'>\n",
      "RangeIndex: 6230872 entries, 0 to 6230871\n",
      "Data columns (total 3 columns):\n",
      " #   Column        Dtype \n",
      "---  ------        ----- \n",
      " 0   cmplnt_fr_dt  object\n",
      " 1   cmplnt_fr_tm  object\n",
      " 2   ofns_desc     object\n",
      "dtypes: object(3)\n",
      "memory usage: 142.6+ MB\n"
     ]
    }
   ],
   "source": [
    "crime_df = df\n",
    "crime_df.info()"
   ]
  },
  {
   "cell_type": "code",
   "execution_count": 15,
   "metadata": {},
   "outputs": [
    {
     "name": "stdout",
     "output_type": "stream",
     "text": [
      "0   NaT\n",
      "1   NaT\n",
      "2   NaT\n",
      "3   NaT\n",
      "4   NaT\n",
      "Name: datetime, dtype: datetime64[ns]\n"
     ]
    }
   ],
   "source": [
    "# Ažuriranje koda za pravilno parsiranje datuma i vremena sa milisekundama\n",
    "crime_df['datetime'] = pd.to_datetime(crime_df['cmplnt_fr_dt'].str.replace('T', ' ') + ' ' + crime_df['cmplnt_fr_tm'], errors='coerce', format='%Y-%m-%d %H:%M:%S.%f')\n",
    "\n",
    "# Provera da li je konverzija uspešna\n",
    "print(crime_df['datetime'].head())\n"
   ]
  },
  {
   "cell_type": "code",
   "execution_count": 12,
   "metadata": {},
   "outputs": [
    {
     "data": {
      "text/html": [
       "<div>\n",
       "<style scoped>\n",
       "    .dataframe tbody tr th:only-of-type {\n",
       "        vertical-align: middle;\n",
       "    }\n",
       "\n",
       "    .dataframe tbody tr th {\n",
       "        vertical-align: top;\n",
       "    }\n",
       "\n",
       "    .dataframe thead th {\n",
       "        text-align: right;\n",
       "    }\n",
       "</style>\n",
       "<table border=\"1\" class=\"dataframe\">\n",
       "  <thead>\n",
       "    <tr style=\"text-align: right;\">\n",
       "      <th></th>\n",
       "      <th>cmplnt_fr_dt</th>\n",
       "      <th>cmplnt_fr_tm</th>\n",
       "      <th>ofns_desc</th>\n",
       "      <th>datetime</th>\n",
       "    </tr>\n",
       "  </thead>\n",
       "  <tbody>\n",
       "    <tr>\n",
       "      <th>0</th>\n",
       "      <td>2010-10-27T00:00:00.000</td>\n",
       "      <td>19:30:00</td>\n",
       "      <td>PETIT LARCENY</td>\n",
       "      <td>NaT</td>\n",
       "    </tr>\n",
       "    <tr>\n",
       "      <th>1</th>\n",
       "      <td>2021-05-24T00:00:00.000</td>\n",
       "      <td>03:00:00</td>\n",
       "      <td>PETIT LARCENY</td>\n",
       "      <td>NaT</td>\n",
       "    </tr>\n",
       "    <tr>\n",
       "      <th>2</th>\n",
       "      <td>2010-02-10T00:00:00.000</td>\n",
       "      <td>12:00:00</td>\n",
       "      <td>PETIT LARCENY</td>\n",
       "      <td>NaT</td>\n",
       "    </tr>\n",
       "    <tr>\n",
       "      <th>3</th>\n",
       "      <td>2010-02-09T00:00:00.000</td>\n",
       "      <td>15:00:00</td>\n",
       "      <td>PETIT LARCENY</td>\n",
       "      <td>NaT</td>\n",
       "    </tr>\n",
       "    <tr>\n",
       "      <th>4</th>\n",
       "      <td>2010-07-29T00:00:00.000</td>\n",
       "      <td>08:00:00</td>\n",
       "      <td>PETIT LARCENY</td>\n",
       "      <td>NaT</td>\n",
       "    </tr>\n",
       "  </tbody>\n",
       "</table>\n",
       "</div>"
      ],
      "text/plain": [
       "              cmplnt_fr_dt cmplnt_fr_tm      ofns_desc datetime\n",
       "0  2010-10-27T00:00:00.000     19:30:00  PETIT LARCENY      NaT\n",
       "1  2021-05-24T00:00:00.000     03:00:00  PETIT LARCENY      NaT\n",
       "2  2010-02-10T00:00:00.000     12:00:00  PETIT LARCENY      NaT\n",
       "3  2010-02-09T00:00:00.000     15:00:00  PETIT LARCENY      NaT\n",
       "4  2010-07-29T00:00:00.000     08:00:00  PETIT LARCENY      NaT"
      ]
     },
     "execution_count": 12,
     "metadata": {},
     "output_type": "execute_result"
    }
   ],
   "source": [
    "crime_df.head()"
   ]
  },
  {
   "cell_type": "code",
   "execution_count": 13,
   "metadata": {},
   "outputs": [
    {
     "data": {
      "text/plain": [
       "6230872"
      ]
     },
     "execution_count": 13,
     "metadata": {},
     "output_type": "execute_result"
    }
   ],
   "source": [
    "# How many Nat values in datetime column\n",
    "crime_df['datetime'].isna().sum()"
   ]
  },
  {
   "cell_type": "code",
   "execution_count": 18,
   "metadata": {},
   "outputs": [
    {
     "name": "stderr",
     "output_type": "stream",
     "text": [
      "C:\\Users\\abeli\\AppData\\Local\\Temp\\ipykernel_17840\\3634471186.py:2: UserWarning: This pattern is interpreted as a regular expression, and has match groups. To actually get the groups, use str.extract.\n",
      "  invalid_time_rows = crime_df[crime_df['cmplnt_fr_tm'].str.contains('(null)', na=False)]\n"
     ]
    },
    {
     "name": "stdout",
     "output_type": "stream",
     "text": [
      "Broj redova sa vremenom označenim kao '(null)': 0\n",
      "Empty DataFrame\n",
      "Columns: [cmplnt_fr_dt, cmplnt_fr_tm]\n",
      "Index: []\n"
     ]
    }
   ],
   "source": [
    "# Filtriranje redova gde je vreme označeno kao '(null)' ili nije u očekivanom formatu\n",
    "invalid_time_rows = crime_df[crime_df['cmplnt_fr_tm'].str.contains('(null)', na=False)]\n",
    "\n",
    "# Prikazivanje broja takvih redova\n",
    "print(f\"Broj redova sa vremenom označenim kao '(null)': {invalid_time_rows.shape[0]}\")\n",
    "\n",
    "# Prikazivanje tih redova\n",
    "print(invalid_time_rows[['cmplnt_fr_dt', 'cmplnt_fr_tm']])\n"
   ]
  },
  {
   "cell_type": "code",
   "execution_count": 17,
   "metadata": {},
   "outputs": [
    {
     "name": "stderr",
     "output_type": "stream",
     "text": [
      "C:\\Users\\abeli\\AppData\\Local\\Temp\\ipykernel_17840\\2277994098.py:2: UserWarning: This pattern is interpreted as a regular expression, and has match groups. To actually get the groups, use str.extract.\n",
      "  crime_df = crime_df[~crime_df['cmplnt_fr_tm'].str.contains('(null)', na=False)]\n"
     ]
    }
   ],
   "source": [
    "# Deleting rows with invalid time from crime_df\n",
    "crime_df = crime_df[~crime_df['cmplnt_fr_tm'].str.contains('(null)', na=False)]"
   ]
  },
  {
   "cell_type": "code",
   "execution_count": 19,
   "metadata": {},
   "outputs": [
    {
     "name": "stderr",
     "output_type": "stream",
     "text": [
      "C:\\Users\\abeli\\AppData\\Local\\Temp\\ipykernel_17840\\4155335902.py:2: UserWarning: Could not infer format, so each element will be parsed individually, falling back to `dateutil`. To ensure parsing is consistent and as-expected, please specify a format.\n",
      "  crime_df['datetime'] = pd.to_datetime(crime_df['cmplnt_fr_dt'] + ' ' + crime_df['cmplnt_fr_tm'])\n"
     ]
    }
   ],
   "source": [
    "# Warning: This operation will last for a few minutes due to the large size of the dataset\n",
    "\n",
    "# First, we merge the columns 'cmplnt_fr_dt' and 'cmplnt_fr_tm' into one column\n",
    "crime_df['datetime'] = pd.to_datetime(crime_df['cmplnt_fr_dt'] + ' ' + crime_df['cmplnt_fr_tm'])\n",
    "\n",
    "# Renaming the 'datetime' column to 'ds' for use in Prophet\n",
    "crime_df.rename(columns={'datetime': 'ds'}, inplace=True)\n",
    "\n"
   ]
  },
  {
   "cell_type": "code",
   "execution_count": 22,
   "metadata": {},
   "outputs": [
    {
     "data": {
      "text/html": [
       "<div>\n",
       "<style scoped>\n",
       "    .dataframe tbody tr th:only-of-type {\n",
       "        vertical-align: middle;\n",
       "    }\n",
       "\n",
       "    .dataframe tbody tr th {\n",
       "        vertical-align: top;\n",
       "    }\n",
       "\n",
       "    .dataframe thead th {\n",
       "        text-align: right;\n",
       "    }\n",
       "</style>\n",
       "<table border=\"1\" class=\"dataframe\">\n",
       "  <thead>\n",
       "    <tr style=\"text-align: right;\">\n",
       "      <th></th>\n",
       "      <th>cmplnt_fr_dt</th>\n",
       "      <th>cmplnt_fr_tm</th>\n",
       "      <th>ofns_desc</th>\n",
       "      <th>ds</th>\n",
       "    </tr>\n",
       "  </thead>\n",
       "  <tbody>\n",
       "    <tr>\n",
       "      <th>0</th>\n",
       "      <td>2010-10-27T00:00:00.000</td>\n",
       "      <td>19:30:00</td>\n",
       "      <td>PETIT LARCENY</td>\n",
       "      <td>2010-10-27 19:30:00</td>\n",
       "    </tr>\n",
       "    <tr>\n",
       "      <th>1</th>\n",
       "      <td>2021-05-24T00:00:00.000</td>\n",
       "      <td>03:00:00</td>\n",
       "      <td>PETIT LARCENY</td>\n",
       "      <td>2021-05-24 03:00:00</td>\n",
       "    </tr>\n",
       "    <tr>\n",
       "      <th>2</th>\n",
       "      <td>2010-02-10T00:00:00.000</td>\n",
       "      <td>12:00:00</td>\n",
       "      <td>PETIT LARCENY</td>\n",
       "      <td>2010-02-10 12:00:00</td>\n",
       "    </tr>\n",
       "    <tr>\n",
       "      <th>3</th>\n",
       "      <td>2010-02-09T00:00:00.000</td>\n",
       "      <td>15:00:00</td>\n",
       "      <td>PETIT LARCENY</td>\n",
       "      <td>2010-02-09 15:00:00</td>\n",
       "    </tr>\n",
       "    <tr>\n",
       "      <th>4</th>\n",
       "      <td>2010-07-29T00:00:00.000</td>\n",
       "      <td>08:00:00</td>\n",
       "      <td>PETIT LARCENY</td>\n",
       "      <td>2010-07-29 08:00:00</td>\n",
       "    </tr>\n",
       "  </tbody>\n",
       "</table>\n",
       "</div>"
      ],
      "text/plain": [
       "              cmplnt_fr_dt cmplnt_fr_tm      ofns_desc                  ds\n",
       "0  2010-10-27T00:00:00.000     19:30:00  PETIT LARCENY 2010-10-27 19:30:00\n",
       "1  2021-05-24T00:00:00.000     03:00:00  PETIT LARCENY 2021-05-24 03:00:00\n",
       "2  2010-02-10T00:00:00.000     12:00:00  PETIT LARCENY 2010-02-10 12:00:00\n",
       "3  2010-02-09T00:00:00.000     15:00:00  PETIT LARCENY 2010-02-09 15:00:00\n",
       "4  2010-07-29T00:00:00.000     08:00:00  PETIT LARCENY 2010-07-29 08:00:00"
      ]
     },
     "metadata": {},
     "output_type": "display_data"
    },
    {
     "data": {
      "text/html": [
       "<div>\n",
       "<style scoped>\n",
       "    .dataframe tbody tr th:only-of-type {\n",
       "        vertical-align: middle;\n",
       "    }\n",
       "\n",
       "    .dataframe tbody tr th {\n",
       "        vertical-align: top;\n",
       "    }\n",
       "\n",
       "    .dataframe thead th {\n",
       "        text-align: right;\n",
       "    }\n",
       "</style>\n",
       "<table border=\"1\" class=\"dataframe\">\n",
       "  <thead>\n",
       "    <tr style=\"text-align: right;\">\n",
       "      <th></th>\n",
       "      <th>cmplnt_fr_dt</th>\n",
       "      <th>cmplnt_fr_tm</th>\n",
       "      <th>ofns_desc</th>\n",
       "      <th>ds</th>\n",
       "    </tr>\n",
       "  </thead>\n",
       "  <tbody>\n",
       "    <tr>\n",
       "      <th>6230867</th>\n",
       "      <td>2022-09-22T00:00:00.000</td>\n",
       "      <td>16:07:00</td>\n",
       "      <td>ESCAPE 3</td>\n",
       "      <td>2022-09-22 16:07:00</td>\n",
       "    </tr>\n",
       "    <tr>\n",
       "      <th>6230868</th>\n",
       "      <td>2022-08-07T00:00:00.000</td>\n",
       "      <td>00:51:00</td>\n",
       "      <td>ESCAPE 3</td>\n",
       "      <td>2022-08-07 00:51:00</td>\n",
       "    </tr>\n",
       "    <tr>\n",
       "      <th>6230869</th>\n",
       "      <td>2022-12-19T00:00:00.000</td>\n",
       "      <td>06:36:00</td>\n",
       "      <td>ESCAPE 3</td>\n",
       "      <td>2022-12-19 06:36:00</td>\n",
       "    </tr>\n",
       "    <tr>\n",
       "      <th>6230870</th>\n",
       "      <td>2022-11-26T00:00:00.000</td>\n",
       "      <td>14:15:00</td>\n",
       "      <td>ESCAPE 3</td>\n",
       "      <td>2022-11-26 14:15:00</td>\n",
       "    </tr>\n",
       "    <tr>\n",
       "      <th>6230871</th>\n",
       "      <td>2022-05-25T00:00:00.000</td>\n",
       "      <td>22:15:00</td>\n",
       "      <td>ESCAPE 3</td>\n",
       "      <td>2022-05-25 22:15:00</td>\n",
       "    </tr>\n",
       "  </tbody>\n",
       "</table>\n",
       "</div>"
      ],
      "text/plain": [
       "                    cmplnt_fr_dt cmplnt_fr_tm ofns_desc                  ds\n",
       "6230867  2022-09-22T00:00:00.000     16:07:00  ESCAPE 3 2022-09-22 16:07:00\n",
       "6230868  2022-08-07T00:00:00.000     00:51:00  ESCAPE 3 2022-08-07 00:51:00\n",
       "6230869  2022-12-19T00:00:00.000     06:36:00  ESCAPE 3 2022-12-19 06:36:00\n",
       "6230870  2022-11-26T00:00:00.000     14:15:00  ESCAPE 3 2022-11-26 14:15:00\n",
       "6230871  2022-05-25T00:00:00.000     22:15:00  ESCAPE 3 2022-05-25 22:15:00"
      ]
     },
     "metadata": {},
     "output_type": "display_data"
    }
   ],
   "source": [
    "display(crime_df.head())\n",
    "display(crime_df.tail())"
   ]
  },
  {
   "cell_type": "code",
   "execution_count": 23,
   "metadata": {},
   "outputs": [
    {
     "data": {
      "text/html": [
       "<div>\n",
       "<style scoped>\n",
       "    .dataframe tbody tr th:only-of-type {\n",
       "        vertical-align: middle;\n",
       "    }\n",
       "\n",
       "    .dataframe tbody tr th {\n",
       "        vertical-align: top;\n",
       "    }\n",
       "\n",
       "    .dataframe thead th {\n",
       "        text-align: right;\n",
       "    }\n",
       "</style>\n",
       "<table border=\"1\" class=\"dataframe\">\n",
       "  <thead>\n",
       "    <tr style=\"text-align: right;\">\n",
       "      <th></th>\n",
       "      <th>ofns_desc</th>\n",
       "      <th>ds</th>\n",
       "    </tr>\n",
       "  </thead>\n",
       "  <tbody>\n",
       "    <tr>\n",
       "      <th>0</th>\n",
       "      <td>PETIT LARCENY</td>\n",
       "      <td>2010-10-27 19:30:00</td>\n",
       "    </tr>\n",
       "    <tr>\n",
       "      <th>1</th>\n",
       "      <td>PETIT LARCENY</td>\n",
       "      <td>2021-05-24 03:00:00</td>\n",
       "    </tr>\n",
       "    <tr>\n",
       "      <th>2</th>\n",
       "      <td>PETIT LARCENY</td>\n",
       "      <td>2010-02-10 12:00:00</td>\n",
       "    </tr>\n",
       "    <tr>\n",
       "      <th>3</th>\n",
       "      <td>PETIT LARCENY</td>\n",
       "      <td>2010-02-09 15:00:00</td>\n",
       "    </tr>\n",
       "    <tr>\n",
       "      <th>4</th>\n",
       "      <td>PETIT LARCENY</td>\n",
       "      <td>2010-07-29 08:00:00</td>\n",
       "    </tr>\n",
       "  </tbody>\n",
       "</table>\n",
       "</div>"
      ],
      "text/plain": [
       "       ofns_desc                  ds\n",
       "0  PETIT LARCENY 2010-10-27 19:30:00\n",
       "1  PETIT LARCENY 2021-05-24 03:00:00\n",
       "2  PETIT LARCENY 2010-02-10 12:00:00\n",
       "3  PETIT LARCENY 2010-02-09 15:00:00\n",
       "4  PETIT LARCENY 2010-07-29 08:00:00"
      ]
     },
     "metadata": {},
     "output_type": "display_data"
    },
    {
     "data": {
      "text/html": [
       "<div>\n",
       "<style scoped>\n",
       "    .dataframe tbody tr th:only-of-type {\n",
       "        vertical-align: middle;\n",
       "    }\n",
       "\n",
       "    .dataframe tbody tr th {\n",
       "        vertical-align: top;\n",
       "    }\n",
       "\n",
       "    .dataframe thead th {\n",
       "        text-align: right;\n",
       "    }\n",
       "</style>\n",
       "<table border=\"1\" class=\"dataframe\">\n",
       "  <thead>\n",
       "    <tr style=\"text-align: right;\">\n",
       "      <th></th>\n",
       "      <th>ofns_desc</th>\n",
       "      <th>ds</th>\n",
       "    </tr>\n",
       "  </thead>\n",
       "  <tbody>\n",
       "    <tr>\n",
       "      <th>6230867</th>\n",
       "      <td>ESCAPE 3</td>\n",
       "      <td>2022-09-22 16:07:00</td>\n",
       "    </tr>\n",
       "    <tr>\n",
       "      <th>6230868</th>\n",
       "      <td>ESCAPE 3</td>\n",
       "      <td>2022-08-07 00:51:00</td>\n",
       "    </tr>\n",
       "    <tr>\n",
       "      <th>6230869</th>\n",
       "      <td>ESCAPE 3</td>\n",
       "      <td>2022-12-19 06:36:00</td>\n",
       "    </tr>\n",
       "    <tr>\n",
       "      <th>6230870</th>\n",
       "      <td>ESCAPE 3</td>\n",
       "      <td>2022-11-26 14:15:00</td>\n",
       "    </tr>\n",
       "    <tr>\n",
       "      <th>6230871</th>\n",
       "      <td>ESCAPE 3</td>\n",
       "      <td>2022-05-25 22:15:00</td>\n",
       "    </tr>\n",
       "  </tbody>\n",
       "</table>\n",
       "</div>"
      ],
      "text/plain": [
       "        ofns_desc                  ds\n",
       "6230867  ESCAPE 3 2022-09-22 16:07:00\n",
       "6230868  ESCAPE 3 2022-08-07 00:51:00\n",
       "6230869  ESCAPE 3 2022-12-19 06:36:00\n",
       "6230870  ESCAPE 3 2022-11-26 14:15:00\n",
       "6230871  ESCAPE 3 2022-05-25 22:15:00"
      ]
     },
     "metadata": {},
     "output_type": "display_data"
    }
   ],
   "source": [
    "# delete cmplnt_fr_dt and cmplnt_fr_tm columns\n",
    "crime_df.drop(columns=['cmplnt_fr_dt', 'cmplnt_fr_tm'], inplace=True)\n",
    "display(crime_df.head())\n",
    "display(crime_df.tail())"
   ]
  },
  {
   "cell_type": "code",
   "execution_count": 24,
   "metadata": {},
   "outputs": [
    {
     "data": {
      "text/html": [
       "<div>\n",
       "<style scoped>\n",
       "    .dataframe tbody tr th:only-of-type {\n",
       "        vertical-align: middle;\n",
       "    }\n",
       "\n",
       "    .dataframe tbody tr th {\n",
       "        vertical-align: top;\n",
       "    }\n",
       "\n",
       "    .dataframe thead th {\n",
       "        text-align: right;\n",
       "    }\n",
       "</style>\n",
       "<table border=\"1\" class=\"dataframe\">\n",
       "  <thead>\n",
       "    <tr style=\"text-align: right;\">\n",
       "      <th></th>\n",
       "      <th>ofns_desc</th>\n",
       "    </tr>\n",
       "    <tr>\n",
       "      <th>ds</th>\n",
       "      <th></th>\n",
       "    </tr>\n",
       "  </thead>\n",
       "  <tbody>\n",
       "    <tr>\n",
       "      <th>2010-01-01</th>\n",
       "      <td>RAPE</td>\n",
       "    </tr>\n",
       "    <tr>\n",
       "      <th>2010-01-01</th>\n",
       "      <td>SEX CRIMES</td>\n",
       "    </tr>\n",
       "    <tr>\n",
       "      <th>2010-01-01</th>\n",
       "      <td>OFF. AGNST PUB ORD SENSBLTY &amp;</td>\n",
       "    </tr>\n",
       "    <tr>\n",
       "      <th>2010-01-01</th>\n",
       "      <td>SEX CRIMES</td>\n",
       "    </tr>\n",
       "    <tr>\n",
       "      <th>2010-01-01</th>\n",
       "      <td>CRIMINAL MISCHIEF &amp; RELATED OF</td>\n",
       "    </tr>\n",
       "  </tbody>\n",
       "</table>\n",
       "</div>"
      ],
      "text/plain": [
       "                                 ofns_desc\n",
       "ds                                        \n",
       "2010-01-01                            RAPE\n",
       "2010-01-01                      SEX CRIMES\n",
       "2010-01-01   OFF. AGNST PUB ORD SENSBLTY &\n",
       "2010-01-01                      SEX CRIMES\n",
       "2010-01-01  CRIMINAL MISCHIEF & RELATED OF"
      ]
     },
     "metadata": {},
     "output_type": "display_data"
    },
    {
     "data": {
      "text/html": [
       "<div>\n",
       "<style scoped>\n",
       "    .dataframe tbody tr th:only-of-type {\n",
       "        vertical-align: middle;\n",
       "    }\n",
       "\n",
       "    .dataframe tbody tr th {\n",
       "        vertical-align: top;\n",
       "    }\n",
       "\n",
       "    .dataframe thead th {\n",
       "        text-align: right;\n",
       "    }\n",
       "</style>\n",
       "<table border=\"1\" class=\"dataframe\">\n",
       "  <thead>\n",
       "    <tr style=\"text-align: right;\">\n",
       "      <th></th>\n",
       "      <th>ofns_desc</th>\n",
       "    </tr>\n",
       "    <tr>\n",
       "      <th>ds</th>\n",
       "      <th></th>\n",
       "    </tr>\n",
       "  </thead>\n",
       "  <tbody>\n",
       "    <tr>\n",
       "      <th>2022-12-31 23:30:00</th>\n",
       "      <td>SEX CRIMES</td>\n",
       "    </tr>\n",
       "    <tr>\n",
       "      <th>2022-12-31 23:30:00</th>\n",
       "      <td>HARRASSMENT 2</td>\n",
       "    </tr>\n",
       "    <tr>\n",
       "      <th>2022-12-31 23:40:00</th>\n",
       "      <td>INTOXICATED &amp; IMPAIRED DRIVING</td>\n",
       "    </tr>\n",
       "    <tr>\n",
       "      <th>2022-12-31 23:50:00</th>\n",
       "      <td>GRAND LARCENY</td>\n",
       "    </tr>\n",
       "    <tr>\n",
       "      <th>2022-12-31 23:55:00</th>\n",
       "      <td>CRIMINAL MISCHIEF &amp; RELATED OF</td>\n",
       "    </tr>\n",
       "  </tbody>\n",
       "</table>\n",
       "</div>"
      ],
      "text/plain": [
       "                                          ofns_desc\n",
       "ds                                                 \n",
       "2022-12-31 23:30:00                      SEX CRIMES\n",
       "2022-12-31 23:30:00                   HARRASSMENT 2\n",
       "2022-12-31 23:40:00  INTOXICATED & IMPAIRED DRIVING\n",
       "2022-12-31 23:50:00                   GRAND LARCENY\n",
       "2022-12-31 23:55:00  CRIMINAL MISCHIEF & RELATED OF"
      ]
     },
     "metadata": {},
     "output_type": "display_data"
    }
   ],
   "source": [
    "# make ds column the index and sort the index in ascending order\n",
    "crime_df.set_index('ds', inplace=True)\n",
    "crime_df.sort_index(inplace=True)\n",
    "\n",
    "display(crime_df.head())\n",
    "display(crime_df.tail())"
   ]
  },
  {
   "cell_type": "code",
   "execution_count": 26,
   "metadata": {},
   "outputs": [],
   "source": [
    "# Save the cleaned data to a new csv file\n",
    "crime_df.to_csv('Resources/cleaned_crime_data.csv')\n"
   ]
  },
  {
   "cell_type": "code",
   "execution_count": null,
   "metadata": {},
   "outputs": [],
   "source": []
  }
 ],
 "metadata": {
  "kernelspec": {
   "display_name": "base",
   "language": "python",
   "name": "python3"
  },
  "language_info": {
   "codemirror_mode": {
    "name": "ipython",
    "version": 3
   },
   "file_extension": ".py",
   "mimetype": "text/x-python",
   "name": "python",
   "nbconvert_exporter": "python",
   "pygments_lexer": "ipython3",
   "version": "3.11.5"
  }
 },
 "nbformat": 4,
 "nbformat_minor": 2
}

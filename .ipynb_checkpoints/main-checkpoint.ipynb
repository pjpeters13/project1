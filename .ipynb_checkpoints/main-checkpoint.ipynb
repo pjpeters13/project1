{
 "cells": [
  {
   "cell_type": "code",
   "execution_count": 1,
   "metadata": {},
   "outputs": [
    {
     "data": {
      "application/vnd.jupyter.widget-view+json": {
       "model_id": "58af0f33c86546d4bb75e48e957fe265",
       "version_major": 2,
       "version_minor": 0
      },
      "text/plain": [
       "Dropdown(description='Files:', options=('10_most_common_criminal_offenses.ipynb', 'ofns_data_analysis.ipynb', …"
      ]
     },
     "metadata": {},
     "output_type": "display_data"
    },
    {
     "data": {
      "application/vnd.jupyter.widget-view+json": {
       "model_id": "6a586dfbca55464d86ebd3f4bc53b9f7",
       "version_major": 2,
       "version_minor": 0
      },
      "text/plain": [
       "Button(description='Run it!!!', style=ButtonStyle())"
      ]
     },
     "metadata": {},
     "output_type": "display_data"
    },
    {
     "ename": "UnicodeDecodeError",
     "evalue": "'charmap' codec can't decode byte 0x8d in position 453694: character maps to <undefined>",
     "output_type": "error",
     "traceback": [
      "\u001b[1;31m---------------------------------------------------------------------------\u001b[0m",
      "\u001b[1;31mUnicodeDecodeError\u001b[0m                        Traceback (most recent call last)",
      "Cell \u001b[1;32mIn[1], line 30\u001b[0m, in \u001b[0;36mon_button_clicked\u001b[1;34m(b)\u001b[0m\n\u001b[0;32m     28\u001b[0m \u001b[38;5;28;01mif\u001b[39;00m os\u001b[38;5;241m.\u001b[39mpath\u001b[38;5;241m.\u001b[39misfile(selected_file):\n\u001b[0;32m     29\u001b[0m     \u001b[38;5;28;01mwith\u001b[39;00m \u001b[38;5;28mopen\u001b[39m(selected_file, \u001b[38;5;124m'\u001b[39m\u001b[38;5;124mr\u001b[39m\u001b[38;5;124m'\u001b[39m) \u001b[38;5;28;01mas\u001b[39;00m file:\n\u001b[1;32m---> 30\u001b[0m         content \u001b[38;5;241m=\u001b[39m file\u001b[38;5;241m.\u001b[39mread()\n\u001b[0;32m     31\u001b[0m         \u001b[38;5;28mprint\u001b[39m(content)\n\u001b[0;32m     32\u001b[0m \u001b[38;5;28;01melse\u001b[39;00m:\n",
      "File \u001b[1;32m~\\anaconda3\\Lib\\encodings\\cp1252.py:23\u001b[0m, in \u001b[0;36mIncrementalDecoder.decode\u001b[1;34m(self, input, final)\u001b[0m\n\u001b[0;32m     22\u001b[0m \u001b[38;5;28;01mdef\u001b[39;00m \u001b[38;5;21mdecode\u001b[39m(\u001b[38;5;28mself\u001b[39m, \u001b[38;5;28minput\u001b[39m, final\u001b[38;5;241m=\u001b[39m\u001b[38;5;28;01mFalse\u001b[39;00m):\n\u001b[1;32m---> 23\u001b[0m     \u001b[38;5;28;01mreturn\u001b[39;00m codecs\u001b[38;5;241m.\u001b[39mcharmap_decode(\u001b[38;5;28minput\u001b[39m,\u001b[38;5;28mself\u001b[39m\u001b[38;5;241m.\u001b[39merrors,decoding_table)[\u001b[38;5;241m0\u001b[39m]\n",
      "\u001b[1;31mUnicodeDecodeError\u001b[0m: 'charmap' codec can't decode byte 0x8d in position 453694: character maps to <undefined>"
     ]
    }
   ],
   "source": [
    "import os\n",
    "from ipywidgets import widgets\n",
    "from IPython.display import display, clear_output\n",
    "\n",
    "# Putanja do foldera\n",
    "folder_path = 'Data_Analysis'\n",
    "\n",
    "# Prikupljanje liste fajlova\n",
    "files = os.listdir(folder_path)\n",
    "\n",
    "# Kreiranje dropdown menija\n",
    "dropdown = widgets.Dropdown(\n",
    "    options=files,\n",
    "    description='Files:',\n",
    "    disabled=False,\n",
    ")\n",
    "\n",
    "# Kreiranje dugmeta\n",
    "button = widgets.Button(description=\"Run it!!!\")\n",
    "\n",
    "# Funkcija koja se poziva kada se klikne na dugme\n",
    "def on_button_clicked(b):\n",
    "    clear_output(wait=True)\n",
    "    display(dropdown, button)\n",
    "    selected_file = os.path.join(folder_path, dropdown.value)\n",
    "    \n",
    "    # Provera da li je fajl i prikazivanje njegovog sadržaja\n",
    "    if os.path.isfile(selected_file):\n",
    "        with open(selected_file, 'r') as file:\n",
    "            content = file.read()\n",
    "            print(content)\n",
    "    else:\n",
    "        print(f\"{selected_file} is not a file.\")\n",
    "\n",
    "# Povezivanje događaja klika sa funkcijom\n",
    "button.on_click(on_button_clicked)\n",
    "\n",
    "# Prikazivanje dropdown menija i dugmeta\n",
    "display(dropdown, button)\n"
   ]
  }
 ],
 "metadata": {
  "kernelspec": {
   "display_name": "Python 3 (ipykernel)",
   "language": "python",
   "name": "python3"
  },
  "language_info": {
   "codemirror_mode": {
    "name": "ipython",
    "version": 3
   },
   "file_extension": ".py",
   "mimetype": "text/x-python",
   "name": "python",
   "nbconvert_exporter": "python",
   "pygments_lexer": "ipython3",
   "version": "3.11.5"
  }
 },
 "nbformat": 4,
 "nbformat_minor": 2
}
